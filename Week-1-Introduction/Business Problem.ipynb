{
    "cells": [
        {
            "cell_type": "markdown",
            "metadata": {
                "collapsed": true
            },
            "source": "## Introduction"
        },
        {
            "cell_type": "markdown",
            "metadata": {},
            "source": "Seoul, is the capital of South Korea, is a huge metropolis where modern skyscrapers, many modern buildings and high-tech subways and famous k-pop culture. There are many Buddhist temples, palaces of old times and many street markets like Namdaemun, Dongdaemun and many more. There are many Notable attractions like Dongdaemun Design Plaza, Gyeongbokgung Palace, and many more tourist spots. There are many people who visit Seoul on a short trip and cannot visit all the neighbourhood places they wish.  Seoul is the principal tourist destination for visitors. The number of international tourists to Korea for this year is expected to reach a record 17.5 million amid efforts to draw more independent Chinese travelers and diversify markets. According to the Korea Tourism Organization (KTO), 16.05 million foreign tourists visited Korea between January and November, and an additional 1.45 million are expected to travel here by the end of the year. The previous annual record for inbound tourists is 17.24 million set in 2016. Taking a closer look, the record number means one international traveler visits Korea per 1.8 seconds and 118 fully occupied 407-seater airplanes land daily over the course of a year.\n"
        },
        {
            "cell_type": "markdown",
            "metadata": {},
            "source": "## Project Description "
        },
        {
            "attachments": {},
            "cell_type": "markdown",
            "metadata": {},
            "source": "This project demonstrates an analysis of venues in Seoul, South Korea using heterogeneous data sources including data science methods. The process includes extraction, load, transformation and analysis of all data sources from Foursquare.\nSince Soeul is a busy city with high density of population there are lots of venues in Seoul which has a high probability of places to visit. In this project we will try to segment venues into Clusters of the Seoul city based on geographical location. I am particularly interested in helping people who will be visiting Seoul and want to explore the city without any chaotic situations. Furthermore, I would also prefer popular locations as there will also be people on a short-trip or visiting for conferences, or visitors from nearby countries. Seoul has a high inflow of visitors from neighboring counties like China. I will try to use our data science capabilities to generate a few most promising neighbourhoods based on these criteria. Advantages of each area will then be clearly expressed so that best possible final location can be chosen by visitors to Seoul.\n\n\nTarget Audience\n\u2022\tIn this project we will try to help individuals travelling to Seoul by recommending venues segmented in different clusters. Specifically, this report will be targeted to travellers who are going on a short trip interested in exploring different Venue in Seoul, South Korea.\n"
        },
        {
            "cell_type": "markdown",
            "metadata": {},
            "source": "## Data Sources "
        },
        {
            "cell_type": "markdown",
            "metadata": {},
            "source": "1.\tData Sources:\nFoursquare - a location technology platform that provides various API\u2019s under the parent \u2018Places API\u2019 to help  usfetch data. There are numerous API\u2019s for venues, users, photos, check-ins\u2019, list. In this project I have used two of such API\u2019s listed below:\n1)\tSearch for Venues\n2)\tGet Venue Recommendations\n\nNow once we got the districts' latitude and longitude, let's use Foursquare Location to get the best venues from Seoul which will give us an idea of where the tourist can visit in Seoul.\n"
        },
        {
            "cell_type": "code",
            "execution_count": null,
            "metadata": {},
            "outputs": [],
            "source": ""
        }
    ],
    "metadata": {
        "kernelspec": {
            "display_name": "Python 3.6",
            "language": "python",
            "name": "python3"
        },
        "language_info": {
            "codemirror_mode": {
                "name": "ipython",
                "version": 3
            },
            "file_extension": ".py",
            "mimetype": "text/x-python",
            "name": "python",
            "nbconvert_exporter": "python",
            "pygments_lexer": "ipython3",
            "version": "3.6.9"
        }
    },
    "nbformat": 4,
    "nbformat_minor": 1
}